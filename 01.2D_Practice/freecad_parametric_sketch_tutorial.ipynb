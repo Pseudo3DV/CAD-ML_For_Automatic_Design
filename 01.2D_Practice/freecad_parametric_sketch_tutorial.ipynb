{
 "cells": [
  {
   "cell_type": "markdown",
   "metadata": {},
   "source": [
    "# FreeCAD 파라메트릭 스케치 생성 튜토리얼\n",
    "\n",
    "이 튜토리얼은 FreeCAD Python API를 사용하여 파라메트릭 2D 스케치를 생성하는 방법을 단계별로 설명합니다.\n",
    "FreeCAD의 GUI 없이도 프로그래밍 방식으로 정확한 기하학적 도형을 만들 수 있습니다.\n",
    "\n",
    "## 📚 학습 목표\n",
    "- FreeCAD Python API 기본 사용법\n",
    "- 2D 스케치 생성 및 도형 추가\n",
    "- 구속 조건(Constraints) 적용\n",
    "- 파라메트릭 모델링의 기본 개념\n",
    "\n",
    "## 🔧 필요한 사전 지식\n",
    "- Python 기본 문법\n",
    "- 기본적인 기하학 개념 (점, 선, 원, 각도 등)"
   ]
  },
  {
   "cell_type": "markdown",
   "metadata": {},
   "source": [
    "## 1단계: FreeCAD 환경 설정\n",
    "\n",
    "### 🔍 FreeCAD 설치 경로 확인\n",
    "\n",
    "먼저 사용자의 시스템에 맞는 FreeCAD 설치 경로를 설정해야 합니다.\n",
    "\n",
    "**운영체제별 일반적인 FreeCAD 설치 경로:**\n",
    "- **macOS**: `/Applications/FreeCAD.app/Contents/Resources/lib`\n",
    "- **Windows**: `다운로드 받은 패키지 파일의 bin 폴더 경로`\n",
    "\n",
    "> ⚠️ **중요**: 아래 `FREECADPATH` 변수를 본인의 FreeCAD 설치 경로에 맞게 수정하세요!"
   ]
  },
  {
   "cell_type": "code",
   "execution_count": null,
   "metadata": {},
   "outputs": [],
   "source": [
    "import sys\n",
    "import os\n",
    "\n",
    "# FreeCAD 설치 경로를 Python 경로에 추가합니다.\n",
    "# 사용자의 FreeCAD 설치 경로에 맞게 수정해주세요!\n",
    "FREECADPATH = \"/Applications/FreeCAD.app/Contents/Resources/lib\"  # macOS 예시\n",
    "sys.path.append(FREECADPATH)\n",
    "\n",
    "print(f\"FreeCAD 경로 추가됨: {FREECADPATH}\")\n",
    "print(f\"Python 경로 개수: {len(sys.path)}\")"
   ]
  },
  {
   "cell_type": "markdown",
   "metadata": {},
   "source": [
    "### 📦 FreeCAD 모듈 임포트\n",
    "\n",
    "FreeCAD의 핵심 모듈들을 임포트합니다. GUI 모듈은 제외하고 필요한 모듈만 가져옵니다."
   ]
  },
  {
   "cell_type": "code",
   "execution_count": null,
   "metadata": {},
   "outputs": [],
   "source": [
    "# FreeCAD 모듈들을 임포트합니다.\n",
    "try:\n",
    "    import FreeCAD as App  # FreeCAD의 핵심 애플리케이션 모듈\n",
    "    import Part           # 3D 형상 및 기하학적 객체를 다루는 모듈\n",
    "    import Sketcher       # 2D 스케치 및 구속 조건을 다루는 모듈\n",
    "    \n",
    "    print(\"✅ FreeCAD 모듈이 성공적으로 로드되었습니다.\")\n",
    "    print(f\"   - FreeCAD 버전: {App.Version()}\")\n",
    "    print(f\"   - 사용 가능한 모듈: App, Part, Sketcher\")\n",
    "    \n",
    "except ImportError as e:\n",
    "    print(f\"❌ FreeCAD 모듈 로드 실패: {e}\")\n",
    "    print(\"\\n🔧 문제 해결 방법:\")\n",
    "    print(\"   1. FREECADPATH 경로를 확인하세요\")\n",
    "    print(\"   2. FreeCAD가 올바르게 설치되었는지 확인하세요\")\n",
    "    print(\"   3. Python 버전이 FreeCAD와 호환되는지 확인하세요\")\n",
    "    raise"
   ]
  },
  {
   "cell_type": "markdown",
   "metadata": {},
   "source": [
    "## 2단계: 기본 도형 생성 함수들\n",
    "\n",
    "FreeCAD에서 사용할 기본 도형들을 생성하는 함수들을 정의합니다.\n",
    "각 함수는 2D 좌표를 받아서 FreeCAD의 3D 객체로 변환합니다."
   ]
  },
  {
   "cell_type": "code",
   "execution_count": null,
   "metadata": {},
   "outputs": [],
   "source": [
    "def draw_line(start_point, end_point):\n",
    "    \"\"\"\n",
    "    두 점을 연결하는 직선을 생성합니다.\n",
    "    \n",
    "    매개변수:\n",
    "        start_point (tuple): 시작점의 (x, y) 좌표\n",
    "        end_point (tuple): 끝점의 (x, y) 좌표\n",
    "    \n",
    "    반환값:\n",
    "        Part.LineSegment: FreeCAD 선분 객체\n",
    "    \"\"\"\n",
    "    # 2D 좌표를 3D 벡터로 변환 (z=0으로 설정)\n",
    "    start_3d = App.Vector(start_point[0], start_point[1], 0)\n",
    "    end_3d = App.Vector(end_point[0], end_point[1], 0)\n",
    "    \n",
    "    # FreeCAD LineSegment 객체 생성\n",
    "    return Part.LineSegment(start_3d, end_3d)\n",
    "\n",
    "def draw_circle(center, radius):\n",
    "    \"\"\"\n",
    "    원을 생성합니다.\n",
    "    \n",
    "    매개변수:\n",
    "        center (tuple): 원의 중심점 (x, y) 좌표\n",
    "        radius (float): 원의 반지름\n",
    "    \n",
    "    반환값:\n",
    "        Part.Circle: FreeCAD 원 객체\n",
    "    \"\"\"\n",
    "    # 2D 좌표를 3D 벡터로 변환\n",
    "    center_3d = App.Vector(center[0], center[1], 0)\n",
    "    \n",
    "    # FreeCAD Circle 객체 생성\n",
    "    # 매개변수: 중심점, 법선벡터(z축 방향), 반지름\n",
    "    return Part.Circle(center_3d, App.Vector(0, 0, 1), radius)\n",
    "\n",
    "def draw_arc(start_point, end_point, mid_point):\n",
    "    \"\"\"\n",
    "    세 점을 지나는 원호를 생성합니다.\n",
    "    \n",
    "    매개변수:\n",
    "        start_point (tuple): 호의 시작점 (x, y)\n",
    "        end_point (tuple): 호의 끝점 (x, y)\n",
    "        mid_point (tuple): 호 위의 중간점 (x, y) - 호의 형태를 결정\n",
    "    \n",
    "    반환값:\n",
    "        Part.Arc: FreeCAD 호 객체\n",
    "    \"\"\"\n",
    "    # 2D 좌표들을 3D 벡터로 변환\n",
    "    start_3d = App.Vector(start_point[0], start_point[1], 0)\n",
    "    end_3d = App.Vector(end_point[0], end_point[1], 0)\n",
    "    mid_3d = App.Vector(mid_point[0], mid_point[1], 0)\n",
    "    \n",
    "    # FreeCAD Arc 객체 생성 (시작점, 중간점, 끝점 순서)\n",
    "    return Part.Arc(start_3d, mid_3d, end_3d)\n",
    "\n",
    "print(\"✅ 기본 도형 생성 함수들이 정의되었습니다.\")"
   ]
  },
  {
   "cell_type": "markdown",
   "metadata": {},
   "source": [
    "## 3단계: 파라메트릭 스케치 생성\n",
    "\n",
    "### 🎯 파라메트릭 모델링이란?\n",
    "\n",
    "파라메트릭 모델링은 다음과 같은 특징을 가집니다:\n",
    "- **치수와 관계**를 통해 형상을 정의하는 방법\n",
    "- **구속 조건(Constraints)**을 통해 도형 간의 관계를 설정\n",
    "- 하나의 치수를 변경하면 관련된 모든 형상이 **자동으로 업데이트**\n",
    "\n",
    "### 📐 이 예제에서 생성할 스케치\n",
    "- 직사각형 모양의 기본 윤곽 (3개의 직선 + 1개의 호)\n",
    "- 중앙에 위치한 원\n",
    "- 모든 도형이 구속 조건으로 연결됨"
   ]
  },
  {
   "cell_type": "code",
   "execution_count": null,
   "metadata": {},
   "outputs": [],
   "source": [
    "# 새로운 FreeCAD 문서를 생성합니다.\n",
    "doc = App.newDocument(\"ParametricSketchTutorial\")\n",
    "\n",
    "print(f\"✅ 새 문서 생성됨: {doc.Name}\")\n",
    "print(f\"   문서 라벨: {doc.Label}\")"
   ]
  },
  {
   "cell_type": "code",
   "execution_count": null,
   "metadata": {},
   "outputs": [],
   "source": [
    "# XY 평면에 새로운 스케치 객체를 추가합니다.\n",
    "sketch = doc.addObject('Sketcher::SketchObject', 'TutorialSketch')\n",
    "\n",
    "print(f\"✅ 스케치 객체 생성됨: {sketch.Name}\")\n",
    "print(f\"   스케치 라벨: {sketch.Label}\")\n",
    "print(f\"ℹ️  스케치는 XY 평면(z=0)에 생성됩니다.\")"
   ]
  },
  {
   "cell_type": "markdown",
   "metadata": {},
   "source": [
    "### 🔷 기하학적 도형 추가\n",
    "\n",
    "`addGeometry()` 메서드는 각 도형의 내부 인덱스 번호를 반환합니다.\n",
    "이 인덱스는 나중에 구속 조건을 적용할 때 사용됩니다."
   ]
  },
  {
   "cell_type": "code",
   "execution_count": null,
   "metadata": {},
   "outputs": [],
   "source": [
    "print(\"🔷 기하학적 도형 추가를 시작합니다...\")\n",
    "print(\"\\n1️⃣ 직사각형의 기본 윤곽선 생성\")\n",
    "\n",
    "# 하단 수평선: (0,0) → (80,0)\n",
    "idx_line1 = sketch.addGeometry(draw_line((0, 0), (80, 0)))\n",
    "print(f\"   ✅ 선분 1 (하단): 인덱스 {idx_line1}, (0,0) → (80,0)\")\n",
    "\n",
    "# 우측 수직선: (80,0) → (80,50)\n",
    "idx_line2 = sketch.addGeometry(draw_line((80, 0), (80, 50)))\n",
    "print(f\"   ✅ 선분 2 (우측): 인덱스 {idx_line2}, (80,0) → (80,50)\")\n",
    "\n",
    "# 좌측 수직선: (0,50) → (0,0)\n",
    "idx_line3 = sketch.addGeometry(draw_line((0, 50), (0, 0)))\n",
    "print(f\"   ✅ 선분 3 (좌측): 인덱스 {idx_line3}, (0,50) → (0,0)\")\n",
    "\n",
    "print(f\"\\n현재 스케치의 도형 개수: {len(sketch.Geometry)}개\")"
   ]
  },
  {
   "cell_type": "code",
   "execution_count": null,
   "metadata": {},
   "outputs": [],
   "source": [
    "print(\"2️⃣ 상단 호 생성\")\n",
    "\n",
    "# 호의 시작점과 끝점\n",
    "start_point_arc = (80, 50)  # 우측 선분의 끝점\n",
    "end_point_arc = (0, 50)     # 좌측 선분의 시작점\n",
    "\n",
    "# 호의 중간점 (호의 모양을 결정하는 점)\n",
    "# x 중심에서 위쪽으로 올려서 반원 모양을 만듭니다.\n",
    "mid_point_on_arc = (40, 90)  # 중심 x=40, 위쪽으로 40만큼 올림\n",
    "\n",
    "idx_arc = sketch.addGeometry(draw_arc(start_point_arc, end_point_arc, mid_point_on_arc))\n",
    "print(f\"   ✅ 호: 인덱스 {idx_arc}, (80,50) → (0,50), 중간점 (40,90)\")\n",
    "\n",
    "print(f\"\\n현재 스케치의 도형 개수: {len(sketch.Geometry)}개\")"
   ]
  },
  {
   "cell_type": "code",
   "execution_count": null,
   "metadata": {},
   "outputs": [],
   "source": [
    "print(\"3️⃣ 중앙 원 생성\")\n",
    "\n",
    "center_point = (40, 25)  # 직사각형의 중심 근처\n",
    "circle_radius = 15       # 적당한 크기의 반지름\n",
    "\n",
    "idx_circle = sketch.addGeometry(draw_circle(center_point, circle_radius))\n",
    "print(f\"   ✅ 원: 인덱스 {idx_circle}, 중심 (40,25), 반지름 {circle_radius}\")\n",
    "\n",
    "print(f\"\\n✅ 모든 도형 추가 완료!\")\n",
    "print(f\"   총 도형 개수: {len(sketch.Geometry)}개\")\n",
    "print(f\"   도형 인덱스: 선분들({idx_line1}, {idx_line2}, {idx_line3}), 호({idx_arc}), 원({idx_circle})\")"
   ]
  },
  {
   "cell_type": "markdown",
   "metadata": {},
   "source": [
    "### 🔗 구속 조건(Constraints) 추가\n",
    "\n",
    "구속 조건은 도형들 간의 관계를 정의하여 스케치를 완전하게 만듭니다.\n",
    "\n",
    "**FreeCAD에서 점 인덱스:**\n",
    "- `1` = 시작점\n",
    "- `2` = 끝점"
   ]
  },
  {
   "cell_type": "code",
   "execution_count": null,
   "metadata": {},
   "outputs": [],
   "source": [
    "print(\"🔗 구속 조건 적용을 시작합니다...\")\n",
    "print(\"\\n1️⃣ 점 일치 구속 조건 추가\")\n",
    "print(\"   (도형의 끝점들을 연결하여 닫힌 윤곽을 만듭니다)\")\n",
    "\n",
    "# 선분1의 끝점과 선분2의 시작점을 연결\n",
    "sketch.addConstraint(Sketcher.Constraint('Coincident', idx_line1, 2, idx_line2, 1))\n",
    "print(\"   ✅ 선분1 끝점 ↔ 선분2 시작점\")\n",
    "\n",
    "# 선분2의 끝점과 호의 시작점을 연결\n",
    "sketch.addConstraint(Sketcher.Constraint('Coincident', idx_line2, 2, idx_arc, 1))\n",
    "print(\"   ✅ 선분2 끝점 ↔ 호 시작점\")\n",
    "\n",
    "# 호의 끝점과 선분3의 시작점을 연결\n",
    "sketch.addConstraint(Sketcher.Constraint('Coincident', idx_arc, 2, idx_line3, 1))\n",
    "print(\"   ✅ 호 끝점 ↔ 선분3 시작점\")\n",
    "\n",
    "# 선분3의 끝점과 선분1의 시작점을 연결 (윤곽 완성)\n",
    "sketch.addConstraint(Sketcher.Constraint('Coincident', idx_line3, 2, idx_line1, 1))\n",
    "print(\"   ✅ 선분3 끝점 ↔ 선분1 시작점\")\n",
    "\n",
    "print(f\"\\n현재 구속 조건 개수: {len(sketch.Constraints)}개\")"
   ]
  },
  {
   "cell_type": "code",
   "execution_count": null,
   "metadata": {},
   "outputs": [],
   "source": [
    "print(\"2️⃣ 방향 구속 조건 추가\")\n",
    "print(\"   (선분들의 방향을 고정하여 형태를 안정화합니다)\")\n",
    "\n",
    "# 수평 구속: 선분을 수평으로 고정\n",
    "sketch.addConstraint(Sketcher.Constraint('Horizontal', idx_line1))\n",
    "print(\"   ✅ 선분1을 수평으로 고정\")\n",
    "\n",
    "# 수직 구속: 선분을 수직으로 고정\n",
    "sketch.addConstraint(Sketcher.Constraint('Vertical', idx_line2))\n",
    "print(\"   ✅ 선분2를 수직으로 고정\")\n",
    "\n",
    "sketch.addConstraint(Sketcher.Constraint('Vertical', idx_line3))\n",
    "print(\"   ✅ 선분3을 수직으로 고정\")\n",
    "\n",
    "print(f\"\\n✅ 모든 구속 조건 추가 완료!\")\n",
    "print(f\"   총 구속 조건 개수: {len(sketch.Constraints)}개\")"
   ]
  },
  {
   "cell_type": "markdown",
   "metadata": {},
   "source": [
    "### 🔄 문서 재계산 및 완료"
   ]
  },
  {
   "cell_type": "code",
   "execution_count": null,
   "metadata": {},
   "outputs": [],
   "source": [
    "# FreeCAD 문서를 재계산하여 모든 변경사항을 적용합니다.\n",
    "doc.recompute()\n",
    "\n",
    "print(\"✅ 문서 재계산 완료\")\n",
    "print(\"🎉 파라메트릭 스케치 생성 완료!\")\n",
    "\n",
    "# 스케치 정보 요약\n",
    "print(f\"\\n📊 생성된 스케치 정보:\")\n",
    "print(f\"   - 문서명: {doc.Name}\")\n",
    "print(f\"   - 스케치명: {sketch.Name}\")\n",
    "print(f\"   - 도형 개수: {len(sketch.Geometry)}개\")\n",
    "print(f\"   - 구속 조건 개수: {len(sketch.Constraints)}개\")\n",
    "\n",
    "# 각 도형의 상세 정보\n",
    "print(f\"\\n🔍 도형 상세 정보:\")\n",
    "for i, geom in enumerate(sketch.Geometry):\n",
    "    print(f\"   [{i}] {type(geom).__name__}: {geom}\")"
   ]
  },
  {
   "cell_type": "markdown",
   "metadata": {},
   "source": [
    "## 4단계: 실행 및 결과 저장\n",
    "\n",
    "생성된 스케치를 FreeCAD 파일 형식으로 저장합니다."
   ]
  },
  {
   "cell_type": "code",
   "execution_count": null,
   "metadata": {},
   "outputs": [],
   "source": [
    "# 출력 파일명 설정\n",
    "output_filename = \"parametric_sketch_tutorial_result.FCStd\"\n",
    "output_path = os.path.join(os.getcwd(), output_filename)\n",
    "\n",
    "try:\n",
    "    # FreeCAD 문서를 파일로 저장\n",
    "    doc.saveAs(output_path)\n",
    "    \n",
    "    print(f\"✅ 스케치가 성공적으로 생성되고 저장되었습니다!\")\n",
    "    print(f\"📁 저장 위치: {output_path}\")\n",
    "    print(f\"📏 파일 크기: {os.path.getsize(output_path)} bytes\")\n",
    "    \n",
    "except Exception as e:\n",
    "    print(f\"❌ 파일 저장 중 오류 발생: {e}\")"
   ]
  },
  {
   "cell_type": "markdown",
   "metadata": {},
   "source": [
    "## 💡 다음 단계 가이드\n",
    "\n",
    "1. **FreeCAD를 실행**하세요\n",
    "2. **파일 → 열기** → `parametric_sketch_tutorial_result.FCStd` 선택\n",
    "3. 생성된 스케치를 확인하고 편집해보세요\n",
    "4. 스케치를 더블클릭하여 편집 모드로 진입\n",
    "5. 구속 조건을 추가하거나 수정해보세요\n",
    "\n",
    "## 🎓 추가 학습 아이디어\n",
    "\n",
    "- **치수 구속 조건** 추가해보기 (길이, 각도 등)\n",
    "- **대칭 구속 조건** 적용해보기\n",
    "- **다른 도형들** 추가해보기 (타원, 스플라인 등)\n",
    "- **스케치를 3D로 돌출(Extrude)**해보기\n",
    "\n",
    "## 📚 참고 자료\n",
    "\n",
    "- [FreeCAD 공식 문서](https://wiki.freecadweb.org/Python_scripting_tutorial)\n",
    "- [FreeCAD Python API 레퍼런스](https://freecad.github.io/SourceDoc/)\n",
    "- [스케치 구속 조건 가이드](https://wiki.freecadweb.org/Sketcher_Workbench)\n",
    "\n",
    "즐거운 FreeCAD 학습 되세요! 🛠️"
   ]
  }
 ],
 "metadata": {
  "kernelspec": {
   "display_name": "Python 3",
   "language": "python",
   "name": "python3"
  },
  "language_info": {
   "codemirror_mode": {
    "name": "ipython",
    "version": 3
   },
   "file_extension": ".py",
   "name": "python",
   "nbconvert_exporter": "python",
   "pygments_lexer": "ipython3",
   "version": "3.8.5"
  }
 },
 "nbformat": 4,
 "nbformat_minor": 4
}
