{
 "cells": [
  {
   "cell_type": "markdown",
   "metadata": {},
   "source": [
    "# SketchGraphs 튜토리얼\n",
    "\n",
    "이 튜토리얼에서는 SketchGraphs 라이브러리를 사용하여 2D 스케치 데이터를 다루는 방법을 학습합니다.\n",
    "\n",
    "## 개요\n",
    "SketchGraphs는 CAD 스케치를 그래프 형태로 표현하고 분석할 수 있는 Python 라이브러리입니다. 이 라이브러리를 통해:\n",
    "- 스케치 시퀀스 데이터를 로드하고 분석할 수 있습니다\n",
    "- 스케치를 시각화할 수 있습니다\n",
    "- 스케치를 그래프 구조로 변환하여 분석할 수 있습니다\n",
    "\n",
    "## 목차\n",
    "1. [환경 설정](#1-환경-설정)\n",
    "2. [라이브러리 임포트](#2-라이브러리-임포트)\n",
    "3. [데이터 준비](#3-데이터-준비)\n",
    "4. [데이터 로드 및 탐색](#4-데이터-로드-및-탐색)\n",
    "5. [스케치 시각화](#5-스케치-시각화)\n",
    "6. [그래프 표현 및 시각화](#6-그래프-표현-및-시각화)"
   ]
  },
  {
   "cell_type": "markdown",
   "metadata": {},
   "source": [
    "## 1. 환경 설정\n",
    "\n",
    "먼저 필요한 패키지들을 설치합니다."
   ]
  },
  {
   "cell_type": "code",
   "execution_count": null,
   "metadata": {},
   "outputs": [],
   "source": [
    "# SketchGraphs 라이브러리를 개발 모드로 설치\n",
    "%pip install -e SketchGraphs"
   ]
  },
  {
   "cell_type": "code",
   "execution_count": null,
   "metadata": {},
   "outputs": [],
   "source": [
    "# 데이터 압축 해제를 위한 lz4 패키지 설치\n",
    "%pip install lz4"
   ]
  },
  {
   "cell_type": "markdown",
   "metadata": {},
   "source": [
    "### 그래프 시각화를 위한 pygraphviz 설치\n",
    "\n",
    "운영체제에 따라 다른 설치 방법을 사용합니다:"
   ]
  },
  {
   "cell_type": "code",
   "execution_count": null,
   "metadata": {},
   "outputs": [],
   "source": [
    "# MacOS 사용자용 - Homebrew를 통해 graphviz가 설치되어 있어야 합니다\n",
    "%pip install \\\n",
    "--global-option=build_ext \\\n",
    "--global-option=\"-I$(brew --prefix graphviz)/include\" \\\n",
    "--global-option=\"-L$(brew --prefix graphviz)/lib\" \\\n",
    "pygraphviz"
   ]
  },
  {
   "cell_type": "code",
   "execution_count": null,
   "metadata": {},
   "outputs": [],
   "source": [
    "# Windows 사용자용 (위의 MacOS 설치가 실패할 경우 이 방법을 사용하세요)\n",
    "# %pip install pygraphviz"
   ]
  },
  {
   "cell_type": "markdown",
   "metadata": {},
   "source": [
    "## 2. 라이브러리 임포트\n",
    "\n",
    "필요한 Python 라이브러리들을 임포트합니다."
   ]
  },
  {
   "cell_type": "code",
   "execution_count": null,
   "metadata": {},
   "outputs": [],
   "source": [
    "# 시각화 및 수치 계산\n",
    "from matplotlib import pyplot as plt\n",
    "\n",
    "# SketchGraphs 라이브러리\n",
    "import sketchgraphs.data as datalib\n",
    "from sketchgraphs.data import flat_array"
   ]
  },
  {
   "cell_type": "markdown",
   "metadata": {},
   "source": [
    "## 3. 데이터 준비\n",
    "\n",
    "SketchGraphs 데이터셋을 사용하기 위해 검증 데이터셋을 다운로드해야 합니다.\n",
    "\n",
    "### 데이터 다운로드\n",
    "- 다운로드 링크: [validation set](https://sketchgraphs.cs.princeton.edu/sequence/sg_t16_validation.npy)\n",
    "- 다운로드 받은 `sg_t16_validation.npy` 파일을 `SketchGraphs/assets/` 폴더에 저장하세요.\n",
    "\n",
    "**중요**: 파일을 다운로드한 후 `SketchGraphs/assets/` 디렉토리에 배치해야 다음 단계를 진행할 수 있습니다."
   ]
  },
  {
   "cell_type": "markdown",
   "metadata": {},
   "source": [
    "## 4. 데이터 로드 및 탐색\n",
    "\n",
    "이제 다운로드한 데이터를 로드하고 내용을 살펴보겠습니다."
   ]
  },
  {
   "cell_type": "code",
   "execution_count": null,
   "metadata": {},
   "outputs": [],
   "source": [
    "# 검증 데이터셋 로드\n",
    "seq_data = flat_array.load_dictionary_flat('SketchGraphs/assets/sg_t16_validation.npy')\n",
    "\n",
    "# 데이터 구조 확인\n",
    "print(\"데이터 키:\", list(seq_data.keys()))\n",
    "print(\"시퀀스 개수:\", len(seq_data['sequences']))"
   ]
  },
  {
   "cell_type": "code",
   "execution_count": null,
   "metadata": {},
   "outputs": [],
   "source": [
    "# 전체 시퀀스 정보 출력\n",
    "seq_data['sequences']"
   ]
  },
  {
   "cell_type": "markdown",
   "metadata": {},
   "source": [
    "이 파일에는 총 315,228개의 시퀀스가 포함되어 있습니다. 이제 그 중 하나의 시퀀스를 선택하여 자세히 살펴보겠습니다."
   ]
  },
  {
   "cell_type": "code",
   "execution_count": null,
   "metadata": {},
   "outputs": [],
   "source": [
    "# 특정 시퀀스 선택 (인덱스 1327번)\n",
    "seq = seq_data['sequences'][1327]\n",
    "\n",
    "# 시퀀스의 처음 20개 연산 출력\n",
    "print(\"시퀀스의 처음 20개 연산:\")\n",
    "print(*seq[:20], sep='\\n')"
   ]
  },
  {
   "cell_type": "markdown",
   "metadata": {},
   "source": [
    "### 시퀀스 구조 이해\n",
    "\n",
    "위에서 볼 수 있듯이, 구성 시퀀스는 다음과 같은 요소들의 리스트입니다:\n",
    "- **`NodeOp`**: 기본 도형(엔티티)의 추가를 나타냅니다 (예: 선, 원, 점 등)\n",
    "- **`EdgeOp`**: 제약조건의 추가를 나타냅니다 (예: 평행, 수직, 거리 제약 등)\n",
    "\n",
    "이러한 연산들이 순차적으로 실행되어 최종 스케치가 완성됩니다."
   ]
  },
  {
   "cell_type": "markdown",
   "metadata": {},
   "source": [
    "## 5. 스케치 시각화\n",
    "\n",
    "이제 시퀀스로부터 스케치 객체를 생성하고 시각화해보겠습니다."
   ]
  },
  {
   "cell_type": "code",
   "execution_count": null,
   "metadata": {},
   "outputs": [],
   "source": [
    "# 시퀀스로부터 스케치 객체 생성\n",
    "sketch = datalib.sketch_from_sequence(seq)\n",
    "\n",
    "# 스케치 렌더링 (일반 모드)\n",
    "print(\"일반 스케치 렌더링:\")\n",
    "datalib.render_sketch(sketch);"
   ]
  },
  {
   "cell_type": "markdown",
   "metadata": {},
   "source": [
    "### 손그림 스타일 렌더링\n",
    "\n",
    "matplotlib의 xkcd 모드를 사용하여 손그림 스타일로도 렌더링할 수 있습니다."
   ]
  },
  {
   "cell_type": "code",
   "execution_count": null,
   "metadata": {},
   "outputs": [],
   "source": [
    "# 손그림 스타일로 스케치 렌더링\n",
    "print(\"손그림 스타일 스케치 렌더링:\")\n",
    "datalib.render_sketch(sketch, hand_drawn=True);"
   ]
  },
  {
   "cell_type": "markdown",
   "metadata": {},
   "source": [
    "## 6. 그래프 표현 및 시각화\n",
    "\n",
    "스케치를 그래프 구조로 변환하여 시각화해보겠습니다. 이를 통해 스케치의 구조적 관계를 더 잘 이해할 수 있습니다."
   ]
  },
  {
   "cell_type": "code",
   "execution_count": null,
   "metadata": {},
   "outputs": [],
   "source": [
    "# 시퀀스로부터 그래프 표현 생성\n",
    "G = datalib.pgvgraph_from_sequence(seq)\n",
    "\n",
    "# 그래프를 이미지 파일로 렌더링\n",
    "datalib.render_graph(G, '/tmp/my_graph.png')\n",
    "\n",
    "# 생성된 그래프 이미지 로드 및 표시\n",
    "img = plt.imread('/tmp/my_graph.png')\n",
    "fig = plt.figure(dpi=500)\n",
    "\n",
    "# 그래프가 크므로 일부분만 표시 (중앙 부분)\n",
    "plt.imshow(img[:, 500:1700])\n",
    "plt.axis('off')\n",
    "plt.title('스케치 그래프 구조 (일부분)')\n",
    "plt.show()"
   ]
  },
  {
   "cell_type": "markdown",
   "metadata": {},
   "source": [
    "### 그래프 구조 이해\n",
    "\n",
    "위의 그래프에서 볼 수 있는 요소들:\n",
    "\n",
    "- **노드**: 스케치의 기본 요소들 (점, 선, 원 등)\n",
    "- **엣지**: 요소들 간의 관계 (제약조건)\n",
    "- **`SN`으로 시작하는 라벨**: **서브노드(subnodes)**를 나타냅니다\n",
    "  - 이는 특정 기본 도형 위의 점을 지정합니다\n",
    "  - 예: 선분의 끝점, 원의 중심점 등\n",
    "\n",
    "**참고**: 이 예제의 전체 그래프 이미지는 매우 크기 때문에 위에서는 일부분만 표시했습니다."
   ]
  },
  {
   "cell_type": "markdown",
   "metadata": {},
   "source": [
    "## 요약\n",
    "\n",
    "이 튜토리얼에서 다룬 내용:\n",
    "\n",
    "1. **환경 설정**: SketchGraphs와 필요한 패키지들 설치\n",
    "2. **데이터 로드**: 검증 데이터셋을 로드하고 구조 파악\n",
    "3. **시퀀스 분석**: NodeOp와 EdgeOp로 구성된 스케치 구성 시퀀스 이해\n",
    "4. **스케치 시각화**: 일반 모드와 손그림 스타일로 스케치 렌더링\n",
    "5. **그래프 표현**: 스케치를 그래프 구조로 변환하여 구조적 관계 시각화\n",
    "\n",
    "### 다음 단계\n",
    "\n",
    "이제 SketchGraphs의 기본 사용법을 익혔으므로, 다음과 같은 고급 기능들을 탐색해볼 수 있습니다:\n",
    "- 스케치 생성 및 편집\n",
    "- 제약조건 분석\n",
    "- 머신러닝 모델을 위한 데이터 전처리\n",
    "- 자동 스케치 생성\n",
    "- [sketchgraphs_demo](SketchGraphs/demos/sketchgraphs_demo.ipynb)를 확인하여 onshape을 다루는 부분까지 확인할 수 있습니다."
   ]
  }
 ],
 "metadata": {
  "kernelspec": {
   "display_name": "Python 3",
   "language": "python",
   "name": "python3"
  },
  "language_info": {
   "codemirror_mode": {
    "name": "ipython",
    "version": 3
   },
   "file_extension": ".py",
   "mimetype": "text/x-python",
   "name": "python",
   "nbconvert_exporter": "python",
   "pygments_lexer": "ipython3",
   "version": "3.8.5"
  }
 },
 "nbformat": 4,
 "nbformat_minor": 4
}
